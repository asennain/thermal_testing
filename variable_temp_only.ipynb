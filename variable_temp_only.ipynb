{
 "cells": [
  {
   "cell_type": "code",
   "execution_count": 2,
   "metadata": {},
   "outputs": [
    {
     "name": "stdout",
     "output_type": "stream",
     "text": [
      "Last channel: 112\n",
      "KEITHLEY INSTRUMENTS,MODEL DAQ6510,04376148,1.7.12b\n",
      "\n"
     ]
    }
   ],
   "source": [
    "import socket\n",
    "import serial\n",
    "import time\n",
    "from functions import *\n",
    "from KeithleyConnect import *\n",
    "from constants import TEMP_LIST\n",
    "\n",
    "try:\n",
    "    channels = \"112\"\n",
    "    ip_address = \"169.254.3.79\"\n",
    "    channel_count = len(channels.split(\",\"))\n",
    "    folder_path = r\"D:\\Abdul Sennain\\thermal_testing_data\"\n",
    "\n",
    "    data_socket = socket.socket()\n",
    "    ser = serial.Serial(\"COM3\", 250000)\n",
    "    connect_keithley_temp_only(\n",
    "        ip_address=ip_address,\n",
    "        channels=channels,\n",
    "        data_socket=data_socket,\n",
    "    )\n",
    "\n",
    "\n",
    "    heat_bed_collect_data(\n",
    "        TEMP_LIST=TEMP_LIST,\n",
    "        folder_path=folder_path,\n",
    "        channels=channels,\n",
    "        ip_address=ip_address,\n",
    "        data_socket=data_socket,\n",
    "        ser=ser,\n",
    "        trial_name=\"temp_in_chamber_only\",\n",
    "    )\n",
    "\n",
    "finally:\n",
    "    heat_bed(temp=0, ser=ser)\n",
    "    ser.close()\n",
    "\n"
   ]
  },
  {
   "cell_type": "markdown",
   "metadata": {},
   "source": [
    "# Volt and Temp"
   ]
  },
  {
   "cell_type": "code",
   "execution_count": 1,
   "metadata": {},
   "outputs": [
    {
     "name": "stdout",
     "output_type": "stream",
     "text": [
      "All channels except last: 108, 110\n",
      "Last channel: 112\n"
     ]
    }
   ],
   "source": [
    "import socket\n",
    "import serial\n",
    "import time\n",
    "from functions import *\n",
    "from KeithleyConnect import *\n",
    "from constants import TEMP_LIST\n",
    "\n",
    "try:\n",
    "    \n",
    "    channels = \"108, 110, 112\"\n",
    "    ip_address = \"169.254.127.168\"\n",
    "    channel_count = len(channels.split(\",\"))\n",
    "    folder_path = r\"D:\\Abdul Sennain\\thermal_testing_data\"\n",
    "\n",
    "    data_socket = socket.socket()\n",
    "    ser = serial.Serial(\"COM3\", 250000)\n",
    "\n",
    "    connect_keithley_optional_temp(\n",
    "        ip_address=ip_address,\n",
    "        channels=channels,\n",
    "        data_socket=data_socket,\n",
    "        measure_temp=True\n",
    "    )\n",
    "\n",
    "\n",
    "    heat_bed_collect_data(\n",
    "        TEMP_LIST=TEMP_LIST,\n",
    "        folder_path=folder_path,\n",
    "        channels=channels,\n",
    "        ip_address=ip_address,\n",
    "        data_socket=data_socket,\n",
    "        ser=ser,\n",
    "        trial_name=\"temp_in_chamber_only\",\n",
    "    )\n",
    "\n",
    "finally:\n",
    "    heat_bed(temp=0, ser=ser)\n",
    "    ser.close()\n",
    "\n"
   ]
  },
  {
   "cell_type": "code",
   "execution_count": 1,
   "metadata": {},
   "outputs": [
    {
     "name": "stdout",
     "output_type": "stream",
     "text": [
      "All channels except last: 108, 110\n",
      "Last channel: 112\n",
      "KEITHLEY INSTRUMENTS,MODEL DAQ6510,04376148,1.7.12b\n",
      "\n"
     ]
    }
   ],
   "source": [
    "import socket\n",
    "import serial\n",
    "import time\n",
    "from functions import *\n",
    "from KeithleyConnect import *\n",
    "from constants import TEMP_LIST\n",
    "\n",
    "try:\n",
    "    \n",
    "    channels = \"108, 110, 112\"\n",
    "    ip_address = \"169.254.3.79\"\n",
    "    channel_count = len(channels.split(\",\"))\n",
    "    folder_path = r\"D:\\Abdul Sennain\\thermal_testing_data\"\n",
    "\n",
    "    data_socket = socket.socket()\n",
    "    ser = serial.Serial(\"COM3\", 250000)\n",
    "\n",
    "    connect_keithley_optional_temp(\n",
    "        ip_address=ip_address,\n",
    "        channels=channels,\n",
    "        data_socket=data_socket,\n",
    "        measure_temp=True,\n",
    "    )\n",
    "\n",
    "    heat_bed_collect_data(\n",
    "        TEMP_LIST=TEMP_LIST,\n",
    "        folder_path=folder_path,\n",
    "        channels=channels,\n",
    "        ip_address=ip_address,\n",
    "        data_socket=data_socket,\n",
    "        ser=ser,\n",
    "        trial_name=\"temp_in_chamber_only\",\n",
    "    )\n",
    "\n",
    "finally:\n",
    "    ser.close()\n",
    "    data_socket.close()\n"
   ]
  }
 ],
 "metadata": {
  "kernelspec": {
   "display_name": ".venv.pvc-gels",
   "language": "python",
   "name": "python3"
  },
  "language_info": {
   "codemirror_mode": {
    "name": "ipython",
    "version": 3
   },
   "file_extension": ".py",
   "mimetype": "text/x-python",
   "name": "python",
   "nbconvert_exporter": "python",
   "pygments_lexer": "ipython3",
   "version": "3.11.5"
  },
  "orig_nbformat": 4
 },
 "nbformat": 4,
 "nbformat_minor": 2
}
