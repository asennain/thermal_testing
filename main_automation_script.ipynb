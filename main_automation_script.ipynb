{
 "cells": [
  {
   "cell_type": "markdown",
   "metadata": {},
   "source": [
    "# Room temperature saturation"
   ]
  },
  {
   "cell_type": "code",
   "execution_count": 1,
   "metadata": {},
   "outputs": [
    {
     "name": "stdout",
     "output_type": "stream",
     "text": [
      "All channels except last: 108, 110\n",
      "Last channel: 112\n",
      "KEITHLEY INSTRUMENTS,MODEL DAQ6510,04376148,1.7.12b\n",
      "\n"
     ]
    }
   ],
   "source": [
    "from KeithleyConnect import *\n",
    "from functions import *\n",
    "import csv\n",
    "import socket\n",
    "import serial\n",
    "import time\n",
    "\n",
    "try:\n",
    "    data_socket = socket.socket()\n",
    "    ser = serial.Serial(\"COM3\", 250000)\n",
    "\n",
    "    channels = \"108, 110, 112\"\n",
    "    ip_address = \"169.254.124.238\"\n",
    "\n",
    "    #! SET WEIGHT RATIO AND PLASTICIZER\n",
    "    weight_ratio_and_plasticizer = \"P4_ATBC\"\n",
    "\n",
    "    folder_path = fr\"C:\\Users\\pvc_gel_station\\thermal_testing_data\\{weight_ratio_and_plasticizer}\\room_temp_saturation\"\n",
    "\n",
    "    connect_keithley_optional_temp(\n",
    "        ip_address=ip_address,\n",
    "        channels=channels,\n",
    "        data_socket=data_socket,\n",
    "        measure_temp=True,\n",
    "    )\n",
    "\n",
    "    step_iterations = 2\n",
    "    increment_distance = -0.1\n",
    "    time_interval = 2\n",
    "\n",
    "    collect_repeated_data(\n",
    "        weight_ratio_and_plasticizer = weight_ratio_and_plasticizer,\n",
    "        step_iterations=step_iterations,\n",
    "        trial_iterations=2,\n",
    "        increment_distance=increment_distance,\n",
    "        time_interval=time_interval,\n",
    "        folder_path=folder_path,\n",
    "        channels=channels,\n",
    "        data_socket=data_socket,\n",
    "        ser=ser,\n",
    "    )\n",
    "\n",
    "    ser.close()\n",
    "\n",
    "finally:\n",
    "    ser.close()\n"
   ]
  },
  {
   "cell_type": "markdown",
   "metadata": {},
   "source": [
    "# Test All Channels"
   ]
  },
  {
   "cell_type": "code",
   "execution_count": 1,
   "metadata": {},
   "outputs": [
    {
     "name": "stdout",
     "output_type": "stream",
     "text": [
      "All channels except last: 108, 110\n",
      "Last channel: 112\n",
      "KEITHLEY INSTRUMENTS,MODEL DAQ6510,04376148,1.7.12b\n",
      "\n"
     ]
    }
   ],
   "source": [
    "import socket\n",
    "import serial\n",
    "import time\n",
    "from functions import *\n",
    "from KeithleyConnect import *\n",
    "from constants import TEMP_LIST\n",
    "\n",
    "# try:\n",
    "channels = \"108, 110, 112\"\n",
    "ip_address = \"169.254.124.238\"\n",
    "channel_count = len(channels.split(\",\"))\n",
    "folder_path = r\"D:\\Abdul Sennain\\thermal_testing_data\"\n",
    "\n",
    "#! Set trial name \n",
    "trial_name = \"temp_in_chamber_only\"\n",
    "\n",
    "\n",
    "data_socket = socket.socket()\n",
    "ser = serial.Serial(\"COM3\", 250000)\n",
    "\n",
    "connect_keithley_optional_temp(\n",
    "    ip_address=ip_address,\n",
    "    channels=channels,\n",
    "    data_socket=data_socket,\n",
    "    measure_temp=True,\n",
    ")\n",
    "\n",
    "heat_bed_collect_data(\n",
    "    TEMP_LIST=TEMP_LIST,\n",
    "    folder_path=folder_path,\n",
    "    channels=channels,\n",
    "    ip_address=ip_address,\n",
    "    data_socket=data_socket,\n",
    "    ser=ser,\n",
    "    trial_name=trial_name,\n",
    ")\n"
   ]
  }
 ],
 "metadata": {
  "kernelspec": {
   "display_name": "Python 3",
   "language": "python",
   "name": "python3"
  },
  "language_info": {
   "codemirror_mode": {
    "name": "ipython",
    "version": 3
   },
   "file_extension": ".py",
   "mimetype": "text/x-python",
   "name": "python",
   "nbconvert_exporter": "python",
   "pygments_lexer": "ipython3",
   "version": "3.11.5"
  },
  "orig_nbformat": 4
 },
 "nbformat": 4,
 "nbformat_minor": 2
}
