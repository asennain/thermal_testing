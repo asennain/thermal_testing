{
 "cells": [
  {
   "cell_type": "code",
   "execution_count": 8,
   "metadata": {},
   "outputs": [
    {
     "name": "stdout",
     "output_type": "stream",
     "text": [
      "['108', ' 110', ' 112']\n",
      "All channels except last: 108, 110\n",
      "Last channel: 112\n"
     ]
    }
   ],
   "source": [
    "channels = \"108, 110, 112\"\n",
    "\n",
    "channels_list = [channel.strip() for channel in channels.split(\",\")]\n",
    "all_but_last_list = channels_list[: len(channels_list) - 1]\n",
    "all_but_last_string = \", \".join(all_but_last_list)\n",
    "last_channel_string = channels_list[-1]\n",
    "\n",
    "\n",
    "print(channels.split(','))\n",
    "print(f\"All channels except last: {all_but_last_string}\")\n",
    "print(f\"Last channel: {last_channel_string}\")"
   ]
  }
 ],
 "metadata": {
  "kernelspec": {
   "display_name": ".venv.pvc-gels",
   "language": "python",
   "name": "python3"
  },
  "language_info": {
   "codemirror_mode": {
    "name": "ipython",
    "version": 3
   },
   "file_extension": ".py",
   "mimetype": "text/x-python",
   "name": "python",
   "nbconvert_exporter": "python",
   "pygments_lexer": "ipython3",
   "version": "3.11.5"
  },
  "orig_nbformat": 4
 },
 "nbformat": 4,
 "nbformat_minor": 2
}
